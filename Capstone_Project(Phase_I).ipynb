{
  "nbformat": 4,
  "nbformat_minor": 0,
  "metadata": {
    "colab": {
      "provenance": []
    },
    "kernelspec": {
      "name": "python3",
      "display_name": "Python 3"
    },
    "language_info": {
      "name": "python"
    }
  },
  "cells": [
    {
      "cell_type": "code",
      "execution_count": 1,
      "metadata": {
        "id": "J2HlbfAGFTc9"
      },
      "outputs": [],
      "source": [
        " from bs4 import BeautifulSoup"
      ]
    },
    {
      "cell_type": "code",
      "source": [
        "import requests"
      ],
      "metadata": {
        "id": "B3pRDaH0F3PT"
      },
      "execution_count": 2,
      "outputs": []
    },
    {
      "cell_type": "code",
      "source": [
        "try:\n",
        "  source = requests.get('https://www.imdb.com/search/title/?genres=action&sort=user_rating,desc&title_type=feature&num_votes=25000,&pf_rd_m=A2FGELUUNOQJNL&pf_rd_p=f11158cc-b50b-4c4d-b0a2-40b32863395b&pf_rd_r=XZ8X52H1R40B7KG5SNZ9&pf_rd_s=right-6&pf_rd_t=15506&pf_rd_i=top&ref_=chttp_gnr_1')\n",
        "  source.raise_for_status()\n",
        "\n",
        "  soup = BeautifulSoup(source.text,'html.parser')\n",
        "\n",
        "  movies = soup.find('h3', class_=\"lister-item-header\").a.text\n",
        "  print(movies)\n",
        "\n",
        "  rank = soup.find('span', class_=\"lister-item-index unbold text-primary\").get_text(strip=True).split('.')[0]\n",
        "  print(rank)\n",
        "\n",
        "\n",
        "  year = soup.find('span', class_=\"lister-item-year text-muted unbold\").text.strip('()')\n",
        "  print(year)\n",
        "\n",
        "  ratings = soup.find('div', class_=\"ratings-bar\").strong.text\n",
        "  print(ratings)\n",
        "\n",
        "  print(movies, rank, year, ratings)\n",
        "\n",
        "\n",
        "\n",
        "except Exception as e:\n",
        "  print(e)\n"
      ],
      "metadata": {
        "colab": {
          "base_uri": "https://localhost:8080/"
        },
        "id": "HwZNEENbepe6",
        "outputId": "2af25835-e69c-4862-b4ac-cc42fcdcf096"
      },
      "execution_count": 38,
      "outputs": [
        {
          "output_type": "stream",
          "name": "stdout",
          "text": [
            "The Dark Knight\n",
            "1\n",
            "2008\n",
            "9.0\n",
            "The Dark Knight 1 2008 9.0\n"
          ]
        }
      ]
    },
    {
      "cell_type": "code",
      "source": [],
      "metadata": {
        "id": "cmgG7X7bh_Wx"
      },
      "execution_count": null,
      "outputs": []
    }
  ]
}